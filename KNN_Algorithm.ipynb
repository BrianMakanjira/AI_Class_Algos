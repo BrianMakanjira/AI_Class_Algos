{
  "nbformat": 4,
  "nbformat_minor": 0,
  "metadata": {
    "colab": {
      "name": "KNN_Algorithm.ipynb",
      "provenance": [],
      "collapsed_sections": [],
      "authorship_tag": "ABX9TyOpGrxA6Jvjecc7HDF6MaqS",
      "include_colab_link": true
    },
    "kernelspec": {
      "name": "python3",
      "display_name": "Python 3"
    },
    "language_info": {
      "name": "python"
    }
  },
  "cells": [
    {
      "cell_type": "markdown",
      "metadata": {
        "id": "view-in-github",
        "colab_type": "text"
      },
      "source": [
        "<a href=\"https://colab.research.google.com/github/BrianMakanjira/AI_Class_Algos/blob/main/KNN_Algorithm.ipynb\" target=\"_parent\"><img src=\"https://colab.research.google.com/assets/colab-badge.svg\" alt=\"Open In Colab\"/></a>"
      ]
    },
    {
      "cell_type": "code",
      "metadata": {
        "id": "EgBsNEuuc-Gi"
      },
      "source": [
        "from collections import Counter\n",
        "import math"
      ],
      "execution_count": 9,
      "outputs": []
    },
    {
      "cell_type": "code",
      "metadata": {
        "id": "Iw2SsUtyeKDA"
      },
      "source": [
        "import sklearn\n",
        "from sklearn.utils import shuffle\n",
        "from sklearn.neighbors import KNeighborsClassifier\n",
        "import numpy as np\n",
        "from sklearn import linear_model\n",
        "from sklearn.model_selection import train_test_split\n",
        "from sklearn.preprocessing import OneHotEncoder, LabelEncoder"
      ],
      "execution_count": 11,
      "outputs": []
    },
    {
      "cell_type": "code",
      "metadata": {
        "colab": {
          "base_uri": "https://localhost:8080/"
        },
        "id": "spR7_n1PhZom",
        "outputId": "10c368e1-b93a-410c-8449-f6cfd5635bad"
      },
      "source": [
        "from google.colab import drive\n",
        "drive.mount('/content/drive')"
      ],
      "execution_count": 12,
      "outputs": [
        {
          "output_type": "stream",
          "text": [
            "Drive already mounted at /content/drive; to attempt to forcibly remount, call drive.mount(\"/content/drive\", force_remount=True).\n"
          ],
          "name": "stdout"
        }
      ]
    },
    {
      "cell_type": "code",
      "metadata": {
        "id": "dCc5NNpyiVGs"
      },
      "source": [
        "import pandas as pd"
      ],
      "execution_count": 13,
      "outputs": []
    },
    {
      "cell_type": "code",
      "metadata": {
        "id": "Jh1BTrmKiZ6M"
      },
      "source": [
        "data = pd.read_csv('/content/drive/MyDrive/car.data')"
      ],
      "execution_count": 14,
      "outputs": []
    },
    {
      "cell_type": "code",
      "metadata": {
        "colab": {
          "base_uri": "https://localhost:8080/",
          "height": 419
        },
        "id": "7d2lfiPCifU3",
        "outputId": "038790db-9308-4ef2-ebfe-5ab54ed61351"
      },
      "source": [
        "data"
      ],
      "execution_count": 15,
      "outputs": [
        {
          "output_type": "execute_result",
          "data": {
            "text/html": [
              "<div>\n",
              "<style scoped>\n",
              "    .dataframe tbody tr th:only-of-type {\n",
              "        vertical-align: middle;\n",
              "    }\n",
              "\n",
              "    .dataframe tbody tr th {\n",
              "        vertical-align: top;\n",
              "    }\n",
              "\n",
              "    .dataframe thead th {\n",
              "        text-align: right;\n",
              "    }\n",
              "</style>\n",
              "<table border=\"1\" class=\"dataframe\">\n",
              "  <thead>\n",
              "    <tr style=\"text-align: right;\">\n",
              "      <th></th>\n",
              "      <th>buying</th>\n",
              "      <th>maint</th>\n",
              "      <th>door</th>\n",
              "      <th>persons</th>\n",
              "      <th>lug_boot</th>\n",
              "      <th>safety</th>\n",
              "      <th>class</th>\n",
              "    </tr>\n",
              "  </thead>\n",
              "  <tbody>\n",
              "    <tr>\n",
              "      <th>0</th>\n",
              "      <td>vhigh</td>\n",
              "      <td>vhigh</td>\n",
              "      <td>2</td>\n",
              "      <td>2</td>\n",
              "      <td>small</td>\n",
              "      <td>low</td>\n",
              "      <td>unacc</td>\n",
              "    </tr>\n",
              "    <tr>\n",
              "      <th>1</th>\n",
              "      <td>vhigh</td>\n",
              "      <td>vhigh</td>\n",
              "      <td>2</td>\n",
              "      <td>2</td>\n",
              "      <td>small</td>\n",
              "      <td>med</td>\n",
              "      <td>unacc</td>\n",
              "    </tr>\n",
              "    <tr>\n",
              "      <th>2</th>\n",
              "      <td>vhigh</td>\n",
              "      <td>vhigh</td>\n",
              "      <td>2</td>\n",
              "      <td>2</td>\n",
              "      <td>small</td>\n",
              "      <td>high</td>\n",
              "      <td>unacc</td>\n",
              "    </tr>\n",
              "    <tr>\n",
              "      <th>3</th>\n",
              "      <td>vhigh</td>\n",
              "      <td>vhigh</td>\n",
              "      <td>2</td>\n",
              "      <td>2</td>\n",
              "      <td>med</td>\n",
              "      <td>low</td>\n",
              "      <td>unacc</td>\n",
              "    </tr>\n",
              "    <tr>\n",
              "      <th>4</th>\n",
              "      <td>vhigh</td>\n",
              "      <td>vhigh</td>\n",
              "      <td>2</td>\n",
              "      <td>2</td>\n",
              "      <td>med</td>\n",
              "      <td>med</td>\n",
              "      <td>unacc</td>\n",
              "    </tr>\n",
              "    <tr>\n",
              "      <th>...</th>\n",
              "      <td>...</td>\n",
              "      <td>...</td>\n",
              "      <td>...</td>\n",
              "      <td>...</td>\n",
              "      <td>...</td>\n",
              "      <td>...</td>\n",
              "      <td>...</td>\n",
              "    </tr>\n",
              "    <tr>\n",
              "      <th>1723</th>\n",
              "      <td>low</td>\n",
              "      <td>low</td>\n",
              "      <td>5more</td>\n",
              "      <td>more</td>\n",
              "      <td>med</td>\n",
              "      <td>med</td>\n",
              "      <td>good</td>\n",
              "    </tr>\n",
              "    <tr>\n",
              "      <th>1724</th>\n",
              "      <td>low</td>\n",
              "      <td>low</td>\n",
              "      <td>5more</td>\n",
              "      <td>more</td>\n",
              "      <td>med</td>\n",
              "      <td>high</td>\n",
              "      <td>vgood</td>\n",
              "    </tr>\n",
              "    <tr>\n",
              "      <th>1725</th>\n",
              "      <td>low</td>\n",
              "      <td>low</td>\n",
              "      <td>5more</td>\n",
              "      <td>more</td>\n",
              "      <td>big</td>\n",
              "      <td>low</td>\n",
              "      <td>unacc</td>\n",
              "    </tr>\n",
              "    <tr>\n",
              "      <th>1726</th>\n",
              "      <td>low</td>\n",
              "      <td>low</td>\n",
              "      <td>5more</td>\n",
              "      <td>more</td>\n",
              "      <td>big</td>\n",
              "      <td>med</td>\n",
              "      <td>good</td>\n",
              "    </tr>\n",
              "    <tr>\n",
              "      <th>1727</th>\n",
              "      <td>low</td>\n",
              "      <td>low</td>\n",
              "      <td>5more</td>\n",
              "      <td>more</td>\n",
              "      <td>big</td>\n",
              "      <td>high</td>\n",
              "      <td>vgood</td>\n",
              "    </tr>\n",
              "  </tbody>\n",
              "</table>\n",
              "<p>1728 rows × 7 columns</p>\n",
              "</div>"
            ],
            "text/plain": [
              "     buying  maint   door persons lug_boot safety  class\n",
              "0     vhigh  vhigh      2       2    small    low  unacc\n",
              "1     vhigh  vhigh      2       2    small    med  unacc\n",
              "2     vhigh  vhigh      2       2    small   high  unacc\n",
              "3     vhigh  vhigh      2       2      med    low  unacc\n",
              "4     vhigh  vhigh      2       2      med    med  unacc\n",
              "...     ...    ...    ...     ...      ...    ...    ...\n",
              "1723    low    low  5more    more      med    med   good\n",
              "1724    low    low  5more    more      med   high  vgood\n",
              "1725    low    low  5more    more      big    low  unacc\n",
              "1726    low    low  5more    more      big    med   good\n",
              "1727    low    low  5more    more      big   high  vgood\n",
              "\n",
              "[1728 rows x 7 columns]"
            ]
          },
          "metadata": {
            "tags": []
          },
          "execution_count": 15
        }
      ]
    },
    {
      "cell_type": "code",
      "metadata": {
        "colab": {
          "base_uri": "https://localhost:8080/",
          "height": 359
        },
        "id": "FKiI8zQbiq4G",
        "outputId": "35924149-cc96-4da6-9be0-d4a38aac2409"
      },
      "source": [
        "data.head(10)"
      ],
      "execution_count": 16,
      "outputs": [
        {
          "output_type": "execute_result",
          "data": {
            "text/html": [
              "<div>\n",
              "<style scoped>\n",
              "    .dataframe tbody tr th:only-of-type {\n",
              "        vertical-align: middle;\n",
              "    }\n",
              "\n",
              "    .dataframe tbody tr th {\n",
              "        vertical-align: top;\n",
              "    }\n",
              "\n",
              "    .dataframe thead th {\n",
              "        text-align: right;\n",
              "    }\n",
              "</style>\n",
              "<table border=\"1\" class=\"dataframe\">\n",
              "  <thead>\n",
              "    <tr style=\"text-align: right;\">\n",
              "      <th></th>\n",
              "      <th>buying</th>\n",
              "      <th>maint</th>\n",
              "      <th>door</th>\n",
              "      <th>persons</th>\n",
              "      <th>lug_boot</th>\n",
              "      <th>safety</th>\n",
              "      <th>class</th>\n",
              "    </tr>\n",
              "  </thead>\n",
              "  <tbody>\n",
              "    <tr>\n",
              "      <th>0</th>\n",
              "      <td>vhigh</td>\n",
              "      <td>vhigh</td>\n",
              "      <td>2</td>\n",
              "      <td>2</td>\n",
              "      <td>small</td>\n",
              "      <td>low</td>\n",
              "      <td>unacc</td>\n",
              "    </tr>\n",
              "    <tr>\n",
              "      <th>1</th>\n",
              "      <td>vhigh</td>\n",
              "      <td>vhigh</td>\n",
              "      <td>2</td>\n",
              "      <td>2</td>\n",
              "      <td>small</td>\n",
              "      <td>med</td>\n",
              "      <td>unacc</td>\n",
              "    </tr>\n",
              "    <tr>\n",
              "      <th>2</th>\n",
              "      <td>vhigh</td>\n",
              "      <td>vhigh</td>\n",
              "      <td>2</td>\n",
              "      <td>2</td>\n",
              "      <td>small</td>\n",
              "      <td>high</td>\n",
              "      <td>unacc</td>\n",
              "    </tr>\n",
              "    <tr>\n",
              "      <th>3</th>\n",
              "      <td>vhigh</td>\n",
              "      <td>vhigh</td>\n",
              "      <td>2</td>\n",
              "      <td>2</td>\n",
              "      <td>med</td>\n",
              "      <td>low</td>\n",
              "      <td>unacc</td>\n",
              "    </tr>\n",
              "    <tr>\n",
              "      <th>4</th>\n",
              "      <td>vhigh</td>\n",
              "      <td>vhigh</td>\n",
              "      <td>2</td>\n",
              "      <td>2</td>\n",
              "      <td>med</td>\n",
              "      <td>med</td>\n",
              "      <td>unacc</td>\n",
              "    </tr>\n",
              "    <tr>\n",
              "      <th>5</th>\n",
              "      <td>vhigh</td>\n",
              "      <td>vhigh</td>\n",
              "      <td>2</td>\n",
              "      <td>2</td>\n",
              "      <td>med</td>\n",
              "      <td>high</td>\n",
              "      <td>unacc</td>\n",
              "    </tr>\n",
              "    <tr>\n",
              "      <th>6</th>\n",
              "      <td>vhigh</td>\n",
              "      <td>vhigh</td>\n",
              "      <td>2</td>\n",
              "      <td>2</td>\n",
              "      <td>big</td>\n",
              "      <td>low</td>\n",
              "      <td>unacc</td>\n",
              "    </tr>\n",
              "    <tr>\n",
              "      <th>7</th>\n",
              "      <td>vhigh</td>\n",
              "      <td>vhigh</td>\n",
              "      <td>2</td>\n",
              "      <td>2</td>\n",
              "      <td>big</td>\n",
              "      <td>med</td>\n",
              "      <td>unacc</td>\n",
              "    </tr>\n",
              "    <tr>\n",
              "      <th>8</th>\n",
              "      <td>vhigh</td>\n",
              "      <td>vhigh</td>\n",
              "      <td>2</td>\n",
              "      <td>2</td>\n",
              "      <td>big</td>\n",
              "      <td>high</td>\n",
              "      <td>unacc</td>\n",
              "    </tr>\n",
              "    <tr>\n",
              "      <th>9</th>\n",
              "      <td>vhigh</td>\n",
              "      <td>vhigh</td>\n",
              "      <td>2</td>\n",
              "      <td>4</td>\n",
              "      <td>small</td>\n",
              "      <td>low</td>\n",
              "      <td>unacc</td>\n",
              "    </tr>\n",
              "  </tbody>\n",
              "</table>\n",
              "</div>"
            ],
            "text/plain": [
              "  buying  maint door persons lug_boot safety  class\n",
              "0  vhigh  vhigh    2       2    small    low  unacc\n",
              "1  vhigh  vhigh    2       2    small    med  unacc\n",
              "2  vhigh  vhigh    2       2    small   high  unacc\n",
              "3  vhigh  vhigh    2       2      med    low  unacc\n",
              "4  vhigh  vhigh    2       2      med    med  unacc\n",
              "5  vhigh  vhigh    2       2      med   high  unacc\n",
              "6  vhigh  vhigh    2       2      big    low  unacc\n",
              "7  vhigh  vhigh    2       2      big    med  unacc\n",
              "8  vhigh  vhigh    2       2      big   high  unacc\n",
              "9  vhigh  vhigh    2       4    small    low  unacc"
            ]
          },
          "metadata": {
            "tags": []
          },
          "execution_count": 16
        }
      ]
    },
    {
      "cell_type": "code",
      "metadata": {
        "id": "i0A5TrpDjIve"
      },
      "source": [
        "le = LabelEncoder()"
      ],
      "execution_count": 17,
      "outputs": []
    },
    {
      "cell_type": "code",
      "metadata": {
        "id": "K-jtaNBDjWCw"
      },
      "source": [
        "buying = le.fit_transform(list(data[\"buying\"]))\n",
        "maint = le.fit_transform(list(data[\"maint\"]))\n",
        "door = le.fit_transform(list(data[\"door\"]))\n",
        "persons = le.fit_transform(list(data[\"persons\"]))\n",
        "lug_boot = le.fit_transform(list(data[\"lug_boot\"]))\n",
        "safety = le.fit_transform(list(data[\"safety\"]))\n",
        "cls = le.fit_transform(list(data[\"class\"]))"
      ],
      "execution_count": 20,
      "outputs": []
    },
    {
      "cell_type": "code",
      "metadata": {
        "id": "mCp1VCI3khMa"
      },
      "source": [
        "#Combining data into a feature list\n",
        "X = list(zip(buying, maint, door, persons, lug_boot, safety, cls))\n",
        "y = list(cls)"
      ],
      "execution_count": 21,
      "outputs": []
    },
    {
      "cell_type": "code",
      "metadata": {
        "id": "dnmrwB68lJcg"
      },
      "source": [
        "X_train, X_test, y_train, y_test = sklearn.model_selection.train_test_split(X, y, test_size=0.1)"
      ],
      "execution_count": 23,
      "outputs": []
    },
    {
      "cell_type": "code",
      "metadata": {
        "colab": {
          "base_uri": "https://localhost:8080/"
        },
        "id": "ZA2fDlQvnpzg",
        "outputId": "b893d005-c733-46a8-dd50-0744c5622b89"
      },
      "source": [
        "model = KNeighborsClassifier(n_neighbors=9)\n",
        "\n",
        "model.fit(X_train, y_train)"
      ],
      "execution_count": 24,
      "outputs": [
        {
          "output_type": "execute_result",
          "data": {
            "text/plain": [
              "KNeighborsClassifier(algorithm='auto', leaf_size=30, metric='minkowski',\n",
              "                     metric_params=None, n_jobs=None, n_neighbors=9, p=2,\n",
              "                     weights='uniform')"
            ]
          },
          "metadata": {
            "tags": []
          },
          "execution_count": 24
        }
      ]
    },
    {
      "cell_type": "code",
      "metadata": {
        "id": "TFiqpjRqn7ZV"
      },
      "source": [
        "acc = model.score(X_test, y_test)"
      ],
      "execution_count": 25,
      "outputs": []
    },
    {
      "cell_type": "code",
      "metadata": {
        "colab": {
          "base_uri": "https://localhost:8080/"
        },
        "id": "_c4q_trVoHKS",
        "outputId": "4ec2d3a7-52fe-4487-ecda-bc95c52af20b"
      },
      "source": [
        "acc"
      ],
      "execution_count": 26,
      "outputs": [
        {
          "output_type": "execute_result",
          "data": {
            "text/plain": [
              "1.0"
            ]
          },
          "metadata": {
            "tags": []
          },
          "execution_count": 26
        }
      ]
    },
    {
      "cell_type": "code",
      "metadata": {
        "colab": {
          "base_uri": "https://localhost:8080/"
        },
        "id": "0leVZ0wQoOah",
        "outputId": "fa28c503-c80b-4a60-b8d6-196b6a250abd"
      },
      "source": [
        "#If we'd like to see how our model is performing on the unique elements of our test data we can do the following\n",
        "predicted = model.predict(X_test)\n",
        "names = [\"unacc\", \"acc\", \"good\", \"vgood\"]\n",
        "\n",
        "for x in range(len(predicted)):\n",
        "    print(\"Predicted: \", names[predicted[x]], \"Data: \", X_test[x], \"Actual: \", names[y_test[x]])"
      ],
      "execution_count": 30,
      "outputs": [
        {
          "output_type": "stream",
          "text": [
            "Predicted:  good Data:  (1, 2, 2, 2, 1, 1, 2) Actual:  good\n",
            "Predicted:  unacc Data:  (1, 1, 2, 2, 2, 2, 0) Actual:  unacc\n",
            "Predicted:  good Data:  (2, 1, 3, 0, 2, 0, 2) Actual:  good\n",
            "Predicted:  unacc Data:  (2, 0, 2, 2, 2, 0, 0) Actual:  unacc\n",
            "Predicted:  acc Data:  (2, 1, 1, 2, 1, 2, 1) Actual:  acc\n",
            "Predicted:  good Data:  (1, 0, 1, 0, 0, 2, 2) Actual:  good\n",
            "Predicted:  good Data:  (1, 0, 1, 1, 0, 1, 2) Actual:  good\n",
            "Predicted:  good Data:  (0, 1, 0, 2, 1, 2, 2) Actual:  good\n",
            "Predicted:  good Data:  (3, 3, 2, 2, 1, 0, 2) Actual:  good\n",
            "Predicted:  unacc Data:  (0, 2, 3, 2, 1, 0, 0) Actual:  unacc\n",
            "Predicted:  good Data:  (1, 3, 1, 0, 2, 1, 2) Actual:  good\n",
            "Predicted:  good Data:  (1, 3, 2, 1, 0, 1, 2) Actual:  good\n",
            "Predicted:  good Data:  (3, 2, 2, 1, 0, 1, 2) Actual:  good\n",
            "Predicted:  good Data:  (0, 3, 2, 1, 2, 0, 2) Actual:  good\n",
            "Predicted:  good Data:  (3, 0, 2, 0, 1, 2, 2) Actual:  good\n",
            "Predicted:  unacc Data:  (2, 2, 2, 1, 2, 0, 0) Actual:  unacc\n",
            "Predicted:  good Data:  (3, 1, 2, 2, 0, 1, 2) Actual:  good\n",
            "Predicted:  good Data:  (3, 1, 1, 0, 0, 2, 2) Actual:  good\n",
            "Predicted:  good Data:  (3, 1, 3, 0, 2, 1, 2) Actual:  good\n",
            "Predicted:  good Data:  (2, 1, 1, 2, 0, 1, 2) Actual:  good\n",
            "Predicted:  good Data:  (2, 0, 2, 2, 2, 1, 2) Actual:  good\n",
            "Predicted:  good Data:  (3, 1, 1, 0, 2, 2, 2) Actual:  good\n",
            "Predicted:  good Data:  (3, 0, 4, 2, 0, 2, 2) Actual:  good\n",
            "Predicted:  acc Data:  (1, 1, 1, 1, 1, 0, 1) Actual:  acc\n",
            "Predicted:  unacc Data:  (2, 3, 2, 1, 1, 2, 0) Actual:  unacc\n",
            "Predicted:  good Data:  (2, 1, 0, 0, 2, 1, 2) Actual:  good\n",
            "Predicted:  unacc Data:  (1, 0, 2, 1, 1, 2, 0) Actual:  unacc\n",
            "Predicted:  good Data:  (3, 1, 1, 1, 1, 2, 2) Actual:  good\n",
            "Predicted:  good Data:  (1, 3, 2, 2, 1, 1, 2) Actual:  good\n",
            "Predicted:  good Data:  (1, 2, 2, 1, 2, 1, 2) Actual:  good\n",
            "Predicted:  good Data:  (3, 1, 2, 2, 2, 2, 2) Actual:  good\n",
            "Predicted:  good Data:  (0, 3, 0, 2, 2, 0, 2) Actual:  good\n",
            "Predicted:  good Data:  (2, 3, 2, 0, 2, 0, 2) Actual:  good\n",
            "Predicted:  unacc Data:  (3, 1, 0, 1, 0, 2, 0) Actual:  unacc\n",
            "Predicted:  good Data:  (1, 0, 0, 0, 0, 1, 2) Actual:  good\n",
            "Predicted:  good Data:  (3, 0, 0, 0, 0, 0, 2) Actual:  good\n",
            "Predicted:  good Data:  (3, 3, 0, 0, 2, 2, 2) Actual:  good\n",
            "Predicted:  good Data:  (0, 0, 0, 1, 1, 1, 2) Actual:  good\n",
            "Predicted:  unacc Data:  (3, 1, 3, 1, 0, 2, 0) Actual:  unacc\n",
            "Predicted:  unacc Data:  (3, 2, 2, 2, 2, 0, 0) Actual:  unacc\n",
            "Predicted:  good Data:  (1, 2, 0, 0, 2, 2, 2) Actual:  good\n",
            "Predicted:  good Data:  (1, 3, 0, 1, 2, 2, 2) Actual:  good\n",
            "Predicted:  unacc Data:  (3, 1, 3, 2, 0, 0, 0) Actual:  unacc\n",
            "Predicted:  good Data:  (3, 2, 2, 0, 0, 0, 2) Actual:  good\n",
            "Predicted:  good Data:  (0, 3, 3, 1, 1, 1, 2) Actual:  good\n",
            "Predicted:  unacc Data:  (0, 2, 2, 2, 2, 0, 0) Actual:  unacc\n",
            "Predicted:  unacc Data:  (1, 3, 1, 2, 1, 0, 0) Actual:  unacc\n",
            "Predicted:  good Data:  (1, 3, 1, 1, 2, 1, 2) Actual:  good\n",
            "Predicted:  unacc Data:  (2, 2, 0, 2, 1, 2, 0) Actual:  unacc\n",
            "Predicted:  good Data:  (3, 3, 0, 1, 1, 2, 2) Actual:  good\n",
            "Predicted:  good Data:  (3, 3, 0, 2, 1, 2, 2) Actual:  good\n",
            "Predicted:  good Data:  (1, 3, 1, 0, 1, 2, 2) Actual:  good\n",
            "Predicted:  unacc Data:  (0, 0, 1, 1, 0, 2, 0) Actual:  unacc\n",
            "Predicted:  unacc Data:  (3, 2, 2, 2, 1, 0, 0) Actual:  unacc\n",
            "Predicted:  acc Data:  (2, 1, 2, 1, 0, 2, 1) Actual:  acc\n",
            "Predicted:  good Data:  (3, 2, 0, 0, 0, 1, 2) Actual:  good\n",
            "Predicted:  good Data:  (3, 3, 1, 2, 1, 0, 2) Actual:  good\n",
            "Predicted:  unacc Data:  (2, 2, 3, 2, 0, 2, 0) Actual:  unacc\n",
            "Predicted:  good Data:  (2, 1, 0, 0, 0, 0, 2) Actual:  good\n",
            "Predicted:  good Data:  (2, 3, 3, 1, 2, 2, 2) Actual:  good\n",
            "Predicted:  good Data:  (3, 3, 2, 2, 0, 0, 2) Actual:  good\n",
            "Predicted:  good Data:  (1, 1, 2, 1, 1, 1, 2) Actual:  good\n",
            "Predicted:  good Data:  (0, 2, 3, 0, 0, 2, 2) Actual:  good\n",
            "Predicted:  vgood Data:  (1, 1, 1, 2, 1, 0, 3) Actual:  vgood\n",
            "Predicted:  unacc Data:  (0, 0, 1, 2, 1, 2, 0) Actual:  unacc\n",
            "Predicted:  good Data:  (1, 3, 0, 0, 2, 2, 2) Actual:  good\n",
            "Predicted:  unacc Data:  (0, 0, 2, 1, 0, 0, 0) Actual:  unacc\n",
            "Predicted:  unacc Data:  (3, 2, 3, 2, 2, 0, 0) Actual:  unacc\n",
            "Predicted:  unacc Data:  (0, 2, 2, 2, 0, 0, 0) Actual:  unacc\n",
            "Predicted:  good Data:  (3, 2, 2, 0, 2, 1, 2) Actual:  good\n",
            "Predicted:  good Data:  (0, 2, 1, 2, 2, 1, 2) Actual:  good\n",
            "Predicted:  acc Data:  (1, 1, 1, 1, 0, 2, 1) Actual:  acc\n",
            "Predicted:  good Data:  (2, 1, 2, 2, 2, 1, 2) Actual:  good\n",
            "Predicted:  acc Data:  (1, 1, 1, 2, 2, 0, 1) Actual:  acc\n",
            "Predicted:  good Data:  (1, 0, 1, 1, 2, 1, 2) Actual:  good\n",
            "Predicted:  good Data:  (2, 1, 2, 2, 1, 1, 2) Actual:  good\n",
            "Predicted:  good Data:  (3, 1, 0, 1, 2, 1, 2) Actual:  good\n",
            "Predicted:  good Data:  (0, 0, 0, 2, 1, 2, 2) Actual:  good\n",
            "Predicted:  unacc Data:  (2, 0, 2, 2, 1, 0, 0) Actual:  unacc\n",
            "Predicted:  good Data:  (0, 3, 2, 1, 2, 1, 2) Actual:  good\n",
            "Predicted:  good Data:  (1, 0, 2, 0, 2, 2, 2) Actual:  good\n",
            "Predicted:  good Data:  (2, 3, 2, 1, 1, 1, 2) Actual:  good\n",
            "Predicted:  vgood Data:  (1, 2, 3, 2, 0, 0, 3) Actual:  vgood\n",
            "Predicted:  unacc Data:  (0, 1, 0, 2, 0, 2, 0) Actual:  unacc\n",
            "Predicted:  good Data:  (0, 0, 1, 0, 0, 2, 2) Actual:  good\n",
            "Predicted:  vgood Data:  (1, 2, 1, 2, 0, 0, 3) Actual:  vgood\n",
            "Predicted:  good Data:  (1, 2, 2, 2, 2, 1, 2) Actual:  good\n",
            "Predicted:  good Data:  (2, 0, 3, 0, 1, 2, 2) Actual:  good\n",
            "Predicted:  good Data:  (1, 3, 2, 1, 2, 1, 2) Actual:  good\n",
            "Predicted:  good Data:  (0, 3, 3, 0, 1, 1, 2) Actual:  good\n",
            "Predicted:  good Data:  (0, 2, 3, 1, 1, 1, 2) Actual:  good\n",
            "Predicted:  good Data:  (0, 3, 0, 2, 1, 2, 2) Actual:  good\n",
            "Predicted:  good Data:  (0, 2, 2, 0, 0, 1, 2) Actual:  good\n",
            "Predicted:  acc Data:  (1, 2, 1, 1, 1, 0, 1) Actual:  acc\n",
            "Predicted:  good Data:  (1, 1, 2, 2, 2, 1, 2) Actual:  good\n",
            "Predicted:  good Data:  (3, 0, 1, 1, 1, 1, 2) Actual:  good\n",
            "Predicted:  vgood Data:  (1, 2, 2, 1, 1, 0, 3) Actual:  vgood\n",
            "Predicted:  good Data:  (1, 3, 1, 1, 1, 2, 2) Actual:  good\n",
            "Predicted:  unacc Data:  (2, 2, 1, 2, 2, 0, 0) Actual:  unacc\n",
            "Predicted:  good Data:  (2, 0, 0, 2, 1, 2, 2) Actual:  good\n",
            "Predicted:  good Data:  (0, 3, 3, 2, 1, 2, 2) Actual:  good\n",
            "Predicted:  good Data:  (2, 2, 0, 2, 2, 0, 2) Actual:  good\n",
            "Predicted:  good Data:  (3, 0, 1, 2, 1, 2, 2) Actual:  good\n",
            "Predicted:  good Data:  (0, 1, 0, 0, 1, 2, 2) Actual:  good\n",
            "Predicted:  acc Data:  (2, 1, 2, 1, 1, 2, 1) Actual:  acc\n",
            "Predicted:  good Data:  (1, 2, 3, 0, 1, 0, 2) Actual:  good\n",
            "Predicted:  good Data:  (3, 2, 0, 2, 2, 0, 2) Actual:  good\n",
            "Predicted:  unacc Data:  (0, 2, 3, 2, 2, 0, 0) Actual:  unacc\n",
            "Predicted:  good Data:  (3, 3, 1, 2, 2, 0, 2) Actual:  good\n",
            "Predicted:  good Data:  (2, 1, 2, 0, 1, 0, 2) Actual:  good\n",
            "Predicted:  good Data:  (2, 1, 0, 2, 1, 1, 2) Actual:  good\n",
            "Predicted:  good Data:  (1, 0, 0, 0, 1, 1, 2) Actual:  good\n",
            "Predicted:  good Data:  (0, 3, 0, 1, 0, 2, 2) Actual:  good\n",
            "Predicted:  good Data:  (3, 3, 2, 0, 2, 1, 2) Actual:  good\n",
            "Predicted:  good Data:  (3, 1, 1, 0, 1, 0, 2) Actual:  good\n",
            "Predicted:  unacc Data:  (1, 0, 1, 1, 2, 0, 0) Actual:  unacc\n",
            "Predicted:  good Data:  (0, 1, 1, 0, 1, 0, 2) Actual:  good\n",
            "Predicted:  good Data:  (2, 3, 2, 1, 2, 1, 2) Actual:  good\n",
            "Predicted:  unacc Data:  (0, 2, 2, 1, 1, 2, 0) Actual:  unacc\n",
            "Predicted:  good Data:  (0, 3, 1, 2, 1, 2, 2) Actual:  good\n",
            "Predicted:  good Data:  (2, 2, 2, 1, 0, 1, 2) Actual:  good\n",
            "Predicted:  good Data:  (2, 3, 3, 1, 1, 1, 2) Actual:  good\n",
            "Predicted:  good Data:  (0, 2, 1, 2, 2, 2, 2) Actual:  good\n",
            "Predicted:  good Data:  (2, 3, 2, 2, 0, 1, 2) Actual:  good\n",
            "Predicted:  good Data:  (1, 1, 0, 1, 2, 1, 2) Actual:  good\n",
            "Predicted:  good Data:  (1, 2, 2, 1, 0, 1, 2) Actual:  good\n",
            "Predicted:  unacc Data:  (0, 2, 3, 1, 0, 0, 0) Actual:  unacc\n",
            "Predicted:  good Data:  (0, 1, 2, 0, 1, 2, 2) Actual:  good\n",
            "Predicted:  good Data:  (1, 3, 0, 0, 1, 2, 2) Actual:  good\n",
            "Predicted:  good Data:  (0, 0, 1, 0, 1, 0, 2) Actual:  good\n",
            "Predicted:  good Data:  (0, 3, 0, 1, 2, 0, 2) Actual:  good\n",
            "Predicted:  good Data:  (0, 1, 0, 1, 1, 2, 2) Actual:  good\n",
            "Predicted:  unacc Data:  (3, 1, 0, 1, 1, 0, 0) Actual:  unacc\n",
            "Predicted:  good Data:  (0, 2, 0, 2, 2, 1, 2) Actual:  good\n",
            "Predicted:  good Data:  (2, 3, 3, 1, 0, 1, 2) Actual:  good\n",
            "Predicted:  good Data:  (0, 0, 2, 0, 1, 2, 2) Actual:  good\n",
            "Predicted:  good Data:  (1, 3, 0, 1, 1, 2, 2) Actual:  good\n",
            "Predicted:  good Data:  (3, 1, 0, 0, 2, 1, 2) Actual:  good\n",
            "Predicted:  good Data:  (3, 0, 2, 1, 0, 2, 2) Actual:  good\n",
            "Predicted:  good Data:  (1, 0, 2, 0, 2, 1, 2) Actual:  good\n",
            "Predicted:  good Data:  (2, 2, 3, 0, 1, 0, 2) Actual:  good\n",
            "Predicted:  good Data:  (1, 3, 1, 1, 0, 1, 2) Actual:  good\n",
            "Predicted:  good Data:  (0, 0, 0, 0, 1, 2, 2) Actual:  good\n",
            "Predicted:  good Data:  (1, 1, 3, 0, 0, 1, 2) Actual:  good\n",
            "Predicted:  good Data:  (1, 3, 2, 2, 2, 1, 2) Actual:  good\n",
            "Predicted:  good Data:  (3, 2, 1, 1, 0, 1, 2) Actual:  good\n",
            "Predicted:  good Data:  (2, 3, 0, 0, 2, 2, 2) Actual:  good\n",
            "Predicted:  good Data:  (3, 0, 4, 2, 2, 0, 2) Actual:  good\n",
            "Predicted:  good Data:  (1, 2, 1, 2, 0, 1, 2) Actual:  good\n",
            "Predicted:  unacc Data:  (1, 0, 0, 1, 2, 0, 0) Actual:  unacc\n",
            "Predicted:  good Data:  (3, 2, 0, 0, 2, 0, 2) Actual:  good\n",
            "Predicted:  acc Data:  (1, 2, 3, 2, 0, 2, 1) Actual:  acc\n",
            "Predicted:  acc Data:  (1, 1, 3, 2, 2, 0, 1) Actual:  acc\n",
            "Predicted:  good Data:  (1, 3, 0, 0, 2, 1, 2) Actual:  good\n",
            "Predicted:  good Data:  (0, 2, 0, 0, 2, 2, 2) Actual:  good\n",
            "Predicted:  good Data:  (3, 3, 3, 0, 1, 0, 2) Actual:  good\n",
            "Predicted:  unacc Data:  (2, 3, 2, 1, 0, 2, 0) Actual:  unacc\n",
            "Predicted:  unacc Data:  (1, 3, 2, 2, 2, 0, 0) Actual:  unacc\n",
            "Predicted:  good Data:  (3, 3, 3, 2, 1, 2, 2) Actual:  good\n",
            "Predicted:  good Data:  (1, 3, 0, 2, 2, 0, 2) Actual:  good\n",
            "Predicted:  good Data:  (0, 3, 2, 0, 0, 2, 2) Actual:  good\n",
            "Predicted:  unacc Data:  (2, 2, 0, 1, 1, 2, 0) Actual:  unacc\n",
            "Predicted:  good Data:  (3, 1, 2, 0, 0, 2, 2) Actual:  good\n",
            "Predicted:  unacc Data:  (0, 2, 3, 1, 1, 0, 0) Actual:  unacc\n",
            "Predicted:  good Data:  (3, 1, 2, 0, 0, 1, 2) Actual:  good\n",
            "Predicted:  unacc Data:  (0, 0, 2, 2, 0, 0, 0) Actual:  unacc\n",
            "Predicted:  good Data:  (1, 2, 3, 0, 2, 2, 2) Actual:  good\n",
            "Predicted:  good Data:  (1, 1, 1, 2, 2, 1, 2) Actual:  good\n",
            "Predicted:  good Data:  (0, 3, 3, 2, 2, 0, 2) Actual:  good\n",
            "Predicted:  good Data:  (0, 2, 3, 0, 2, 1, 2) Actual:  good\n",
            "Predicted:  unacc Data:  (2, 2, 2, 2, 2, 0, 0) Actual:  unacc\n",
            "Predicted:  acc Data:  (1, 1, 0, 2, 1, 0, 1) Actual:  acc\n",
            "Predicted:  unacc Data:  (3, 1, 2, 2, 0, 0, 0) Actual:  unacc\n"
          ],
          "name": "stdout"
        }
      ]
    }
  ]
}